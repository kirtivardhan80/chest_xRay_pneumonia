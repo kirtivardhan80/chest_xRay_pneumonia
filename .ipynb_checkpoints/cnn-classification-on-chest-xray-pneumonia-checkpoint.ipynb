{
 "cells": [
  {
   "cell_type": "code",
   "execution_count": 1,
   "id": "possible-discovery",
   "metadata": {
    "_cell_guid": "a5758ac2-a801-440a-a18f-a7763e38657a",
    "_uuid": "4d10f234-89df-41ae-a7ba-e79ebc0b4a9a",
    "execution": {
     "iopub.execute_input": "2022-10-28T14:17:58.950589Z",
     "iopub.status.busy": "2022-10-28T14:17:58.949008Z",
     "iopub.status.idle": "2022-10-28T14:18:05.313578Z",
     "shell.execute_reply": "2022-10-28T14:18:05.312576Z",
     "shell.execute_reply.started": "2022-10-28T14:13:48.102576Z"
    },
    "jupyter": {
     "outputs_hidden": false
    },
    "papermill": {
     "duration": 6.385276,
     "end_time": "2022-10-28T14:18:05.313780",
     "exception": false,
     "start_time": "2022-10-28T14:17:58.928504",
     "status": "completed"
    },
    "tags": []
   },
   "outputs": [],
   "source": [
    "import tensorflow as tf\n",
    "from keras.preprocessing.image import ImageDataGenerator\n",
    "import pandas as pd\n",
    "import keras\n",
    "import matplotlib.pyplot as plt"
   ]
  },
  {
   "cell_type": "code",
   "execution_count": 2,
   "id": "global-graph",
   "metadata": {
    "_cell_guid": "6522662e-e45d-49fe-8414-c7f5e67c1088",
    "_uuid": "1cde7b3e-e48e-4822-9a78-d70f72bd1681",
    "execution": {
     "iopub.execute_input": "2022-10-28T14:18:05.349282Z",
     "iopub.status.busy": "2022-10-28T14:18:05.348622Z",
     "iopub.status.idle": "2022-10-28T14:18:07.234623Z",
     "shell.execute_reply": "2022-10-28T14:18:07.235302Z",
     "shell.execute_reply.started": "2022-10-28T13:09:08.969989Z"
    },
    "jupyter": {
     "outputs_hidden": false
    },
    "papermill": {
     "duration": 1.906254,
     "end_time": "2022-10-28T14:18:07.235522",
     "exception": false,
     "start_time": "2022-10-28T14:18:05.329268",
     "status": "completed"
    },
    "tags": []
   },
   "outputs": [
    {
     "name": "stdout",
     "output_type": "stream",
     "text": [
      "Found 5216 images belonging to 2 classes.\n"
     ]
    }
   ],
   "source": [
    "train_datagen = ImageDataGenerator(\n",
    "        rescale=1./255,\n",
    "        shear_range=0.2,\n",
    "        zoom_range=0.2,\n",
    "        horizontal_flip=True)\n",
    "training_set = train_datagen.flow_from_directory(\n",
    "        directory = r\"C:\\Users\\kirti\\OneDrive\\Desktop\\MLPA\\chest xray\\chest_xray\\train\",\n",
    "        target_size=(64 , 64),\n",
    "        batch_size=32,\n",
    "        class_mode='binary')"
   ]
  },
  {
   "cell_type": "code",
   "execution_count": 3,
   "id": "requested-drill",
   "metadata": {
    "_cell_guid": "191d3dac-1abd-4d64-aaf9-c0d58a10efca",
    "_uuid": "751bc789-1460-4167-b3b0-a7a49f322972",
    "execution": {
     "iopub.execute_input": "2022-10-28T14:18:07.271046Z",
     "iopub.status.busy": "2022-10-28T14:18:07.270516Z",
     "iopub.status.idle": "2022-10-28T14:18:07.382968Z",
     "shell.execute_reply": "2022-10-28T14:18:07.382480Z",
     "shell.execute_reply.started": "2022-10-28T13:09:15.697424Z"
    },
    "jupyter": {
     "outputs_hidden": false
    },
    "papermill": {
     "duration": 0.131134,
     "end_time": "2022-10-28T14:18:07.383098",
     "exception": false,
     "start_time": "2022-10-28T14:18:07.251964",
     "status": "completed"
    },
    "tags": []
   },
   "outputs": [
    {
     "name": "stdout",
     "output_type": "stream",
     "text": [
      "Found 624 images belonging to 2 classes.\n"
     ]
    }
   ],
   "source": [
    "test_datagen = ImageDataGenerator(rescale=1./255)\n",
    "test_set = test_datagen.flow_from_directory(\n",
    "        directory = r\"C:\\Users\\kirti\\OneDrive\\Desktop\\MLPA\\chest xray\\chest_xray\\test\",\n",
    "        target_size=(64 , 64),\n",
    "        batch_size=32,\n",
    "        class_mode='binary')"
   ]
  },
  {
   "cell_type": "code",
   "execution_count": 4,
   "id": "infectious-essex",
   "metadata": {
    "_cell_guid": "26042230-f708-4e96-87ad-99d8f4624f79",
    "_uuid": "e7b04c46-368f-4d82-8422-c5d1bbb3b52e",
    "execution": {
     "iopub.execute_input": "2022-10-28T14:18:07.418451Z",
     "iopub.status.busy": "2022-10-28T14:18:07.417765Z",
     "iopub.status.idle": "2022-10-28T14:18:07.527536Z",
     "shell.execute_reply": "2022-10-28T14:18:07.527035Z",
     "shell.execute_reply.started": "2022-10-28T13:09:15.915776Z"
    },
    "jupyter": {
     "outputs_hidden": false
    },
    "papermill": {
     "duration": 0.128989,
     "end_time": "2022-10-28T14:18:07.527680",
     "exception": false,
     "start_time": "2022-10-28T14:18:07.398691",
     "status": "completed"
    },
    "tags": []
   },
   "outputs": [
    {
     "name": "stdout",
     "output_type": "stream",
     "text": [
      "Found 16 images belonging to 2 classes.\n"
     ]
    }
   ],
   "source": [
    "validation = ImageDataGenerator(rescale=1./255)\n",
    "vall = test_datagen.flow_from_directory(\n",
    "        directory = r\"C:\\Users\\kirti\\OneDrive\\Desktop\\MLPA\\chest xray\\chest_xray\\val\",\n",
    "        target_size=(64 , 64),\n",
    "        batch_size=32,\n",
    "        class_mode='binary')"
   ]
  },
  {
   "cell_type": "markdown",
   "id": "confused-fabric",
   "metadata": {
    "papermill": {
     "duration": 0.016188,
     "end_time": "2022-10-28T14:18:07.561305",
     "exception": false,
     "start_time": "2022-10-28T14:18:07.545117",
     "status": "completed"
    },
    "tags": []
   },
   "source": [
    "# IntCNN"
   ]
  },
  {
   "cell_type": "code",
   "execution_count": 5,
   "id": "filled-compiler",
   "metadata": {
    "_cell_guid": "dece6131-208a-4033-b037-49df47eaf2a6",
    "_uuid": "5c4399aa-3826-4d32-a4f9-2dd9f6cf6cbd",
    "execution": {
     "iopub.execute_input": "2022-10-28T14:18:07.597209Z",
     "iopub.status.busy": "2022-10-28T14:18:07.596663Z",
     "iopub.status.idle": "2022-10-28T14:18:10.987347Z",
     "shell.execute_reply": "2022-10-28T14:18:10.987807Z",
     "shell.execute_reply.started": "2022-10-28T13:09:16.032237Z"
    },
    "jupyter": {
     "outputs_hidden": false
    },
    "papermill": {
     "duration": 3.410616,
     "end_time": "2022-10-28T14:18:10.987997",
     "exception": false,
     "start_time": "2022-10-28T14:18:07.577381",
     "status": "completed"
    },
    "tags": []
   },
   "outputs": [],
   "source": [
    "cnn = tf.keras.models.Sequential()"
   ]
  },
  {
   "cell_type": "code",
   "execution_count": 6,
   "id": "decent-species",
   "metadata": {
    "_cell_guid": "cc996f11-bd4a-4cbe-9d4a-2723823851ad",
    "_uuid": "277feeb7-c87e-4d94-9efc-32ca7a93be41",
    "execution": {
     "iopub.execute_input": "2022-10-28T14:18:11.034100Z",
     "iopub.status.busy": "2022-10-28T14:18:11.033366Z",
     "iopub.status.idle": "2022-10-28T14:18:11.036093Z",
     "shell.execute_reply": "2022-10-28T14:18:11.035674Z",
     "shell.execute_reply.started": "2022-10-28T13:09:20.689553Z"
    },
    "jupyter": {
     "outputs_hidden": false
    },
    "papermill": {
     "duration": 0.03153,
     "end_time": "2022-10-28T14:18:11.036207",
     "exception": false,
     "start_time": "2022-10-28T14:18:11.004677",
     "status": "completed"
    },
    "tags": []
   },
   "outputs": [],
   "source": [
    "#Step1:- Convolution \n",
    "\n",
    "cnn.add(tf.keras.layers.Conv2D(filters = 32 , kernel_size = 3 , activation = 'relu' ))\n",
    "cnn.add(keras.Input(shape=(64, 64, 3)))"
   ]
  },
  {
   "cell_type": "markdown",
   "id": "remarkable-guinea",
   "metadata": {
    "papermill": {
     "duration": 0.015752,
     "end_time": "2022-10-28T14:18:11.068494",
     "exception": false,
     "start_time": "2022-10-28T14:18:11.052742",
     "status": "completed"
    },
    "tags": []
   },
   "source": [
    "# Pooling"
   ]
  },
  {
   "cell_type": "code",
   "execution_count": 7,
   "id": "multiple-regular",
   "metadata": {
    "_cell_guid": "80b2b087-a8c8-4a96-a2f3-723c4d478957",
    "_uuid": "8f7a522e-460f-40ea-9aed-11acf2b464a1",
    "execution": {
     "iopub.execute_input": "2022-10-28T14:18:11.106095Z",
     "iopub.status.busy": "2022-10-28T14:18:11.105400Z",
     "iopub.status.idle": "2022-10-28T14:18:11.108999Z",
     "shell.execute_reply": "2022-10-28T14:18:11.108518Z",
     "shell.execute_reply.started": "2022-10-28T13:09:20.717579Z"
    },
    "jupyter": {
     "outputs_hidden": false
    },
    "papermill": {
     "duration": 0.024582,
     "end_time": "2022-10-28T14:18:11.109121",
     "exception": false,
     "start_time": "2022-10-28T14:18:11.084539",
     "status": "completed"
    },
    "tags": []
   },
   "outputs": [],
   "source": [
    "cnn.add(tf.keras.layers.MaxPool2D( pool_size = 2 , strides = 2))"
   ]
  },
  {
   "cell_type": "markdown",
   "id": "strategic-dependence",
   "metadata": {
    "papermill": {
     "duration": 0.015568,
     "end_time": "2022-10-28T14:18:11.140660",
     "exception": false,
     "start_time": "2022-10-28T14:18:11.125092",
     "status": "completed"
    },
    "tags": []
   },
   "source": [
    "# Flattening"
   ]
  },
  {
   "cell_type": "code",
   "execution_count": 8,
   "id": "sunset-tuner",
   "metadata": {
    "_cell_guid": "017874c5-a425-41d4-a51d-07611fd8cd7f",
    "_uuid": "0af049c8-c839-47aa-b3c4-2d25263e2535",
    "execution": {
     "iopub.execute_input": "2022-10-28T14:18:11.222503Z",
     "iopub.status.busy": "2022-10-28T14:18:11.220798Z",
     "iopub.status.idle": "2022-10-28T14:18:11.223167Z",
     "shell.execute_reply": "2022-10-28T14:18:11.221699Z",
     "shell.execute_reply.started": "2022-10-28T13:09:20.726422Z"
    },
    "jupyter": {
     "outputs_hidden": false
    },
    "papermill": {
     "duration": 0.05241,
     "end_time": "2022-10-28T14:18:11.223302",
     "exception": false,
     "start_time": "2022-10-28T14:18:11.170892",
     "status": "completed"
    },
    "tags": []
   },
   "outputs": [],
   "source": [
    "cnn.add(tf.keras.layers.Flatten())"
   ]
  },
  {
   "cell_type": "markdown",
   "id": "verified-wallpaper",
   "metadata": {
    "papermill": {
     "duration": 0.025175,
     "end_time": "2022-10-28T14:18:11.288516",
     "exception": false,
     "start_time": "2022-10-28T14:18:11.263341",
     "status": "completed"
    },
    "tags": []
   },
   "source": [
    "# Fully connection"
   ]
  },
  {
   "cell_type": "code",
   "execution_count": 9,
   "id": "cleared-spread",
   "metadata": {
    "_cell_guid": "04b9f143-480b-497f-a728-b94e602d5e70",
    "_uuid": "92460bae-159d-40bf-b27c-1d314582bfa5",
    "execution": {
     "iopub.execute_input": "2022-10-28T14:18:11.348139Z",
     "iopub.status.busy": "2022-10-28T14:18:11.347250Z",
     "iopub.status.idle": "2022-10-28T14:18:11.349518Z",
     "shell.execute_reply": "2022-10-28T14:18:11.348891Z",
     "shell.execute_reply.started": "2022-10-28T13:09:20.737251Z"
    },
    "jupyter": {
     "outputs_hidden": false
    },
    "papermill": {
     "duration": 0.033785,
     "end_time": "2022-10-28T14:18:11.349675",
     "exception": false,
     "start_time": "2022-10-28T14:18:11.315890",
     "status": "completed"
    },
    "tags": []
   },
   "outputs": [],
   "source": [
    "cnn.add(tf.keras.layers.Dense(units = 128 , activation = 'relu'))"
   ]
  },
  {
   "cell_type": "markdown",
   "id": "sealed-buyer",
   "metadata": {
    "papermill": {
     "duration": 0.023826,
     "end_time": "2022-10-28T14:18:11.397292",
     "exception": false,
     "start_time": "2022-10-28T14:18:11.373466",
     "status": "completed"
    },
    "tags": []
   },
   "source": [
    "# Adding the output layer"
   ]
  },
  {
   "cell_type": "code",
   "execution_count": 10,
   "id": "portuguese-disco",
   "metadata": {
    "_cell_guid": "646fb15b-86d2-4ad8-a280-e38e041c627d",
    "_uuid": "7cbb47c1-0fab-413a-9ea9-38c7b47c05ec",
    "execution": {
     "iopub.execute_input": "2022-10-28T14:18:11.453494Z",
     "iopub.status.busy": "2022-10-28T14:18:11.452651Z",
     "iopub.status.idle": "2022-10-28T14:18:11.454838Z",
     "shell.execute_reply": "2022-10-28T14:18:11.454206Z",
     "shell.execute_reply.started": "2022-10-28T13:09:20.749937Z"
    },
    "jupyter": {
     "outputs_hidden": false
    },
    "papermill": {
     "duration": 0.033541,
     "end_time": "2022-10-28T14:18:11.455005",
     "exception": false,
     "start_time": "2022-10-28T14:18:11.421464",
     "status": "completed"
    },
    "tags": []
   },
   "outputs": [],
   "source": [
    "cnn.add(tf.keras.layers.Dense(units = 1 , activation = 'sigmoid'))"
   ]
  },
  {
   "cell_type": "markdown",
   "id": "conceptual-review",
   "metadata": {
    "papermill": {
     "duration": 0.023551,
     "end_time": "2022-10-28T14:18:11.502788",
     "exception": false,
     "start_time": "2022-10-28T14:18:11.479237",
     "status": "completed"
    },
    "tags": []
   },
   "source": [
    "# Compile the model"
   ]
  },
  {
   "cell_type": "code",
   "execution_count": 11,
   "id": "certain-exhaust",
   "metadata": {
    "_cell_guid": "cabc74a5-a180-46e4-a518-620109139294",
    "_uuid": "36862b24-50ee-4e13-bc84-496e3136f0d6",
    "execution": {
     "iopub.execute_input": "2022-10-28T14:18:11.560826Z",
     "iopub.status.busy": "2022-10-28T14:18:11.560135Z",
     "iopub.status.idle": "2022-10-28T14:18:11.571921Z",
     "shell.execute_reply": "2022-10-28T14:18:11.572905Z",
     "shell.execute_reply.started": "2022-10-28T13:09:20.761804Z"
    },
    "jupyter": {
     "outputs_hidden": false
    },
    "papermill": {
     "duration": 0.047308,
     "end_time": "2022-10-28T14:18:11.573079",
     "exception": false,
     "start_time": "2022-10-28T14:18:11.525771",
     "status": "completed"
    },
    "tags": []
   },
   "outputs": [],
   "source": [
    "cnn.compile(optimizer = 'adam', loss = 'binary_crossentropy', metrics = ['accuracy'])"
   ]
  },
  {
   "cell_type": "markdown",
   "id": "consolidated-acting",
   "metadata": {
    "papermill": {
     "duration": 0.02358,
     "end_time": "2022-10-28T14:18:11.620713",
     "exception": false,
     "start_time": "2022-10-28T14:18:11.597133",
     "status": "completed"
    },
    "tags": []
   },
   "source": [
    "# Fitting the model"
   ]
  },
  {
   "cell_type": "code",
   "execution_count": 12,
   "id": "liked-balance",
   "metadata": {
    "_cell_guid": "8415b74e-5efd-4996-99e8-3d88c697cbff",
    "_uuid": "eae87442-c2c6-4d0c-8402-fba149ce3df0",
    "execution": {
     "iopub.execute_input": "2022-10-28T14:18:11.673141Z",
     "iopub.status.busy": "2022-10-28T14:18:11.672339Z",
     "iopub.status.idle": "2022-10-28T14:41:33.679970Z",
     "shell.execute_reply": "2022-10-28T14:41:33.679375Z",
     "shell.execute_reply.started": "2022-10-28T13:37:43.483334Z"
    },
    "jupyter": {
     "outputs_hidden": false
    },
    "papermill": {
     "duration": 1402.035904,
     "end_time": "2022-10-28T14:41:33.680145",
     "exception": false,
     "start_time": "2022-10-28T14:18:11.644241",
     "status": "completed"
    },
    "tags": []
   },
   "outputs": [
    {
     "name": "stdout",
     "output_type": "stream",
     "text": [
      "Epoch 1/25\n",
      "163/163 [==============================] - 84s 506ms/step - loss: 0.8802 - accuracy: 0.6799 - val_loss: 0.5119 - val_accuracy: 0.6875\n",
      "Epoch 2/25\n",
      "163/163 [==============================] - 54s 329ms/step - loss: 0.2705 - accuracy: 0.8881 - val_loss: 0.5631 - val_accuracy: 0.7500\n",
      "Epoch 3/25\n",
      "163/163 [==============================] - 54s 332ms/step - loss: 0.2222 - accuracy: 0.9070 - val_loss: 0.3579 - val_accuracy: 0.8750\n",
      "Epoch 4/25\n",
      "163/163 [==============================] - 54s 332ms/step - loss: 0.1971 - accuracy: 0.9184 - val_loss: 0.6250 - val_accuracy: 0.6875\n",
      "Epoch 5/25\n",
      "163/163 [==============================] - 54s 334ms/step - loss: 0.1855 - accuracy: 0.9276 - val_loss: 0.2942 - val_accuracy: 0.8750\n",
      "Epoch 6/25\n",
      "163/163 [==============================] - 54s 332ms/step - loss: 0.1655 - accuracy: 0.9351 - val_loss: 0.3649 - val_accuracy: 0.7500\n",
      "Epoch 7/25\n",
      "163/163 [==============================] - 55s 337ms/step - loss: 0.1649 - accuracy: 0.9375 - val_loss: 0.6396 - val_accuracy: 0.6875\n",
      "Epoch 8/25\n",
      "163/163 [==============================] - 54s 333ms/step - loss: 0.1703 - accuracy: 0.9336 - val_loss: 0.5329 - val_accuracy: 0.7500\n",
      "Epoch 9/25\n",
      "163/163 [==============================] - 55s 337ms/step - loss: 0.1570 - accuracy: 0.9401 - val_loss: 0.4486 - val_accuracy: 0.7500\n",
      "Epoch 10/25\n",
      "163/163 [==============================] - 54s 333ms/step - loss: 0.1359 - accuracy: 0.9527 - val_loss: 0.8640 - val_accuracy: 0.6875\n",
      "Epoch 11/25\n",
      "163/163 [==============================] - 54s 334ms/step - loss: 0.1494 - accuracy: 0.9397 - val_loss: 0.5894 - val_accuracy: 0.6875\n",
      "Epoch 12/25\n",
      "163/163 [==============================] - 55s 335ms/step - loss: 0.1426 - accuracy: 0.9476 - val_loss: 0.3779 - val_accuracy: 0.8125\n",
      "Epoch 13/25\n",
      "163/163 [==============================] - 54s 332ms/step - loss: 0.1293 - accuracy: 0.9495 - val_loss: 0.4321 - val_accuracy: 0.6875\n",
      "Epoch 14/25\n",
      "163/163 [==============================] - 54s 334ms/step - loss: 0.1357 - accuracy: 0.9465 - val_loss: 0.6082 - val_accuracy: 0.6875\n",
      "Epoch 15/25\n",
      "163/163 [==============================] - 55s 336ms/step - loss: 0.1320 - accuracy: 0.9494 - val_loss: 0.3444 - val_accuracy: 0.7500\n",
      "Epoch 16/25\n",
      "163/163 [==============================] - 55s 339ms/step - loss: 0.1423 - accuracy: 0.9470 - val_loss: 0.3497 - val_accuracy: 0.7500\n",
      "Epoch 17/25\n",
      "163/163 [==============================] - 54s 332ms/step - loss: 0.1361 - accuracy: 0.9458 - val_loss: 0.3903 - val_accuracy: 0.7500\n",
      "Epoch 18/25\n",
      "163/163 [==============================] - 54s 334ms/step - loss: 0.1344 - accuracy: 0.9450 - val_loss: 0.4542 - val_accuracy: 0.7500\n",
      "Epoch 19/25\n",
      "163/163 [==============================] - 55s 338ms/step - loss: 0.1541 - accuracy: 0.9449 - val_loss: 0.3396 - val_accuracy: 0.8125\n",
      "Epoch 20/25\n",
      "163/163 [==============================] - 55s 339ms/step - loss: 0.1074 - accuracy: 0.9563 - val_loss: 0.3749 - val_accuracy: 0.8125\n",
      "Epoch 21/25\n",
      "163/163 [==============================] - 54s 334ms/step - loss: 0.1189 - accuracy: 0.9578 - val_loss: 0.3546 - val_accuracy: 0.8125\n",
      "Epoch 22/25\n",
      "163/163 [==============================] - 55s 336ms/step - loss: 0.1001 - accuracy: 0.9615 - val_loss: 0.2639 - val_accuracy: 0.8125\n",
      "Epoch 23/25\n",
      "163/163 [==============================] - 55s 340ms/step - loss: 0.1159 - accuracy: 0.9527 - val_loss: 0.4487 - val_accuracy: 0.6875\n",
      "Epoch 24/25\n",
      "163/163 [==============================] - 56s 342ms/step - loss: 0.1140 - accuracy: 0.9571 - val_loss: 0.3807 - val_accuracy: 0.7500\n",
      "Epoch 25/25\n",
      "163/163 [==============================] - 56s 341ms/step - loss: 0.1028 - accuracy: 0.9631 - val_loss: 0.3357 - val_accuracy: 0.8125\n"
     ]
    }
   ],
   "source": [
    "history=cnn.fit(x = training_set , validation_data = vall , epochs = 25)"
   ]
  },
  {
   "cell_type": "markdown",
   "id": "chicken-panel",
   "metadata": {
    "papermill": {
     "duration": 1.397568,
     "end_time": "2022-10-28T14:41:36.247450",
     "exception": false,
     "start_time": "2022-10-28T14:41:34.849882",
     "status": "completed"
    },
    "tags": []
   },
   "source": [
    "# Evaluation"
   ]
  },
  {
   "cell_type": "code",
   "execution_count": 13,
   "id": "breathing-spiritual",
   "metadata": {
    "execution": {
     "iopub.execute_input": "2022-10-28T14:41:38.290596Z",
     "iopub.status.busy": "2022-10-28T14:41:38.289842Z",
     "iopub.status.idle": "2022-10-28T14:41:45.424806Z",
     "shell.execute_reply": "2022-10-28T14:41:45.424207Z",
     "shell.execute_reply.started": "2022-10-28T14:08:30.925013Z"
    },
    "papermill": {
     "duration": 8.165341,
     "end_time": "2022-10-28T14:41:45.424974",
     "exception": false,
     "start_time": "2022-10-28T14:41:37.259633",
     "status": "completed"
    },
    "tags": []
   },
   "outputs": [
    {
     "name": "stdout",
     "output_type": "stream",
     "text": [
      "20/20 - 7s - loss: 0.3203 - accuracy: 0.8830\n",
      "The accuracy of the model is:\n",
      "0.8830128312110901\n"
     ]
    }
   ],
   "source": [
    "test_loss, test_acc = cnn.evaluate(test_set, verbose=2)\n",
    "print(\"The accuracy of the model is:\")\n",
    "print(test_acc)"
   ]
  },
  {
   "cell_type": "markdown",
   "id": "annual-operations",
   "metadata": {
    "papermill": {
     "duration": 0.99652,
     "end_time": "2022-10-28T14:41:47.470895",
     "exception": false,
     "start_time": "2022-10-28T14:41:46.474375",
     "status": "completed"
    },
    "tags": []
   },
   "source": [
    "# Plot the accuracy"
   ]
  },
  {
   "cell_type": "code",
   "execution_count": 14,
   "id": "polyphonic-mouth",
   "metadata": {
    "execution": {
     "iopub.execute_input": "2022-10-28T14:41:49.587387Z",
     "iopub.status.busy": "2022-10-28T14:41:49.586354Z",
     "iopub.status.idle": "2022-10-28T14:41:49.889439Z",
     "shell.execute_reply": "2022-10-28T14:41:49.889908Z",
     "shell.execute_reply.started": "2022-10-28T14:12:57.396663Z"
    },
    "papermill": {
     "duration": 1.369209,
     "end_time": "2022-10-28T14:41:49.890072",
     "exception": false,
     "start_time": "2022-10-28T14:41:48.520863",
     "status": "completed"
    },
    "tags": []
   },
   "outputs": [
    {
     "data": {
      "text/plain": [
       "<matplotlib.legend.Legend at 0x7f768811b350>"
      ]
     },
     "execution_count": 14,
     "metadata": {},
     "output_type": "execute_result"
    },
    {
     "data": {
      "image/png": "[encoded data removed]",
      "text/plain": [
       "<Figure size 432x288 with 1 Axes>"
      ]
     },
     "metadata": {
      "needs_background": "light"
     },
     "output_type": "display_data"
    }
   ],
   "source": [
    "plt.title(\"Accuracy versus epoch\")\n",
    "plt.plot(history.history['accuracy'], label='accuracy')\n",
    "plt.plot(history.history['val_accuracy'], label = 'val_accuracy')\n",
    "plt.xlabel('Epoch')\n",
    "plt.ylabel('Accuracy')\n",
    "plt.ylim([0.5, 1])\n",
    "plt.legend(loc='lower right')"
   ]
  },
  {
   "cell_type": "code",
   "execution_count": 15,
   "id": "governmental-rebecca",
   "metadata": {
    "execution": {
     "iopub.execute_input": "2022-10-28T14:41:52.168145Z",
     "iopub.status.busy": "2022-10-28T14:41:52.167194Z",
     "iopub.status.idle": "2022-10-28T14:41:52.301794Z",
     "shell.execute_reply": "2022-10-28T14:41:52.302239Z",
     "shell.execute_reply.started": "2022-10-28T14:13:09.225332Z"
    },
    "papermill": {
     "duration": 1.161004,
     "end_time": "2022-10-28T14:41:52.302405",
     "exception": false,
     "start_time": "2022-10-28T14:41:51.141401",
     "status": "completed"
    },
    "tags": []
   },
   "outputs": [
    {
     "data": {
      "image/png": "[encoded data removed]",
      "text/plain": [
       "<Figure size 432x288 with 1 Axes>"
      ]
     },
     "metadata": {
      "needs_background": "light"
     },
     "output_type": "display_data"
    }
   ],
   "source": [
    "plt.plot(history.history['loss'])\n",
    "plt.plot(history.history['val_loss'])\n",
    "plt.title('model loss')\n",
    "plt.ylabel('loss')\n",
    "plt.xlabel('epoch')\n",
    "plt.legend(['train', 'val'], loc='upper left')\n",
    "plt.show()"
   ]
  },
  {
   "cell_type": "markdown",
   "id": "provincial-discipline",
   "metadata": {
    "papermill": {
     "duration": 1.025176,
     "end_time": "2022-10-28T14:41:54.389638",
     "exception": false,
     "start_time": "2022-10-28T14:41:53.364462",
     "status": "completed"
    },
    "tags": []
   },
   "source": [
    "# Predicting"
   ]
  },
  {
   "cell_type": "code",
   "execution_count": 16,
   "id": "proud-replacement",
   "metadata": {
    "_cell_guid": "070392c1-2b14-44f0-aea2-b424e085bb67",
    "_uuid": "cdf72882-7ba6-4bd6-8be8-80edd9e9fea2",
    "execution": {
     "iopub.execute_input": "2022-10-28T14:41:56.413096Z",
     "iopub.status.busy": "2022-10-28T14:41:56.412506Z",
     "iopub.status.idle": "2022-10-28T14:41:56.575708Z",
     "shell.execute_reply": "2022-10-28T14:41:56.575142Z",
     "shell.execute_reply.started": "2022-10-28T14:13:23.245550Z"
    },
    "jupyter": {
     "outputs_hidden": false
    },
    "papermill": {
     "duration": 1.169366,
     "end_time": "2022-10-28T14:41:56.575877",
     "exception": false,
     "start_time": "2022-10-28T14:41:55.406511",
     "status": "completed"
    },
    "tags": []
   },
   "outputs": [
    {
     "name": "stdout",
     "output_type": "stream",
     "text": [
      "Positive (Covid)\n"
     ]
    }
   ],
   "source": [
    "import numpy as np\n",
    "from keras.preprocessing import image\n",
    "test_image = image.load_img('../input/chest-xray-pneumonia/chest_xray/test/PNEUMONIA/person109_bacteria_513.jpeg', target_size = (64, 64))\n",
    "test_image = image.img_to_array(test_image)\n",
    "test_image = np.expand_dims(test_image, axis = 0)\n",
    "result = cnn.predict(test_image)\n",
    "training_set.class_indices\n",
    "if result[0][0] == 0:\n",
    "  prediction = 'Negative (normal)'\n",
    "else:\n",
    "  prediction = 'Positive (Covid)'\n",
    "\n",
    "print(prediction)"
   ]
  }
 ],
 "metadata": {
  "kernelspec": {
   "display_name": "Python 3 (ipykernel)",
   "language": "python",
   "name": "python3"
  },
  "language_info": {
   "codemirror_mode": {
    "name": "ipython",
    "version": 3
   },
   "file_extension": ".py",
   "mimetype": "text/x-python",
   "name": "python",
   "nbconvert_exporter": "python",
   "pygments_lexer": "ipython3",
   "version": "3.9.18"
  },
  "papermill": {
   "default_parameters": {},
   "duration": 1448.514442,
   "end_time": "2022-10-28T14:42:00.365157",
   "environment_variables": {},
   "exception": null,
   "input_path": "__notebook__.ipynb",
   "output_path": "__notebook__.ipynb",
   "parameters": {},
   "start_time": "2022-10-28T14:17:51.850715",
   "version": "2.3.3"
  }
 },
 "nbformat": 4,
 "nbformat_minor": 5
}
